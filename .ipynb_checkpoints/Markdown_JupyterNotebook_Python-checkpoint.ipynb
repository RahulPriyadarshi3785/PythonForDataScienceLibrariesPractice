{
 "cells": [
  {
   "cell_type": "markdown",
   "id": "ecf4e604",
   "metadata": {},
   "source": [
    "# Hi"
   ]
  },
  {
   "cell_type": "markdown",
   "id": "3f023593",
   "metadata": {},
   "source": [
    "## Header2"
   ]
  },
  {
   "cell_type": "markdown",
   "id": "b8065677",
   "metadata": {},
   "source": [
    "###### Header6"
   ]
  },
  {
   "cell_type": "markdown",
   "id": "87a807cf",
   "metadata": {},
   "source": [
    "> Blockquotes"
   ]
  },
  {
   "cell_type": "markdown",
   "id": "4a5562c6",
   "metadata": {},
   "source": [
    "<a id = \"division_ID\">Scroll here from Section title(internal link)</a>"
   ]
  },
  {
   "cell_type": "markdown",
   "id": "334980bb",
   "metadata": {},
   "source": [
    "`str = \"This is block level code\"\n",
    "print(str)`"
   ]
  },
  {
   "cell_type": "markdown",
   "id": "a52f036a",
   "metadata": {},
   "source": [
    "$ sqrt(5*x) $"
   ]
  },
  {
   "cell_type": "code",
   "execution_count": 4,
   "id": "a675adc1",
   "metadata": {},
   "outputs": [
    {
     "name": "stdout",
     "output_type": "stream",
     "text": [
      "maths formula\n"
     ]
    }
   ],
   "source": [
    "print('maths formula')"
   ]
  },
  {
   "cell_type": "markdown",
   "id": "f79f1dd0",
   "metadata": {},
   "source": [
    "The line breaks after using <br> br tags and it is awesome."
   ]
  },
  {
   "cell_type": "markdown",
   "id": "fe897cf6",
   "metadata": {},
   "source": [
    "<b>This is bold text </b>"
   ]
  },
  {
   "cell_type": "markdown",
   "id": "8f63ca89",
   "metadata": {},
   "source": [
    "<i>This is italic text</i>"
   ]
  },
  {
   "cell_type": "markdown",
   "id": "a08d2e6c",
   "metadata": {},
   "source": [
    "---"
   ]
  },
  {
   "cell_type": "code",
   "execution_count": 5,
   "id": "fa2abdc7",
   "metadata": {},
   "outputs": [
    {
     "name": "stdout",
     "output_type": "stream",
     "text": [
      "horizontal line\n"
     ]
    }
   ],
   "source": [
    "print('horizontal line')"
   ]
  },
  {
   "cell_type": "markdown",
   "id": "a897cabf",
   "metadata": {},
   "source": [
    "<ol>\n",
    "<li>Fish</li>\n",
    "<li>Eggs</li>\n",
    "<li>Cheese</li>\n",
    "</ol>"
   ]
  },
  {
   "cell_type": "markdown",
   "id": "1c6f13fe",
   "metadata": {},
   "source": [
    "<ul>\n",
    "<li>Fish</li>\n",
    "<li>Eggs</li>\n",
    "<li>Cheese</li>\n",
    "</ul>"
   ]
  },
  {
   "cell_type": "markdown",
   "id": "0d780044",
   "metadata": {},
   "source": [
    "---"
   ]
  },
  {
   "cell_type": "markdown",
   "id": "07378e18",
   "metadata": {},
   "source": [
    "- x\n",
    "- y\n",
    "- z"
   ]
  },
  {
   "cell_type": "markdown",
   "id": "fab26c6b",
   "metadata": {},
   "source": [
    "[Section title](#division_ID)"
   ]
  },
  {
   "cell_type": "markdown",
   "id": "368a3a2e",
   "metadata": {},
   "source": [
    "<a> href=\"https://www.google.com\"> Link to Google</a>"
   ]
  },
  {
   "cell_type": "code",
   "execution_count": null,
   "id": "7d129b69",
   "metadata": {},
   "outputs": [],
   "source": []
  }
 ],
 "metadata": {
  "kernelspec": {
   "display_name": "Python 3",
   "language": "python",
   "name": "python3"
  },
  "language_info": {
   "codemirror_mode": {
    "name": "ipython",
    "version": 3
   },
   "file_extension": ".py",
   "mimetype": "text/x-python",
   "name": "python",
   "nbconvert_exporter": "python",
   "pygments_lexer": "ipython3",
   "version": "3.8.8"
  }
 },
 "nbformat": 4,
 "nbformat_minor": 5
}
